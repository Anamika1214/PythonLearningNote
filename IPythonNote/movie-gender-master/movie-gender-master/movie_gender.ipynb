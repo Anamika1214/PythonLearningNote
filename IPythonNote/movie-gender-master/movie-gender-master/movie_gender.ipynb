{
 "cells": [
  {
   "cell_type": "markdown",
   "metadata": {},
   "source": [
    "# Analysis of Lead Gender and Box Office\n",
    "\n",
    "by [Max Woolf](http://minimaxir.com) (@minimaxir)\n",
    "\n",
    "*This notebook is licensed under the MIT License. If you use the code or data visualization designs contained within this notebook, it would be greatly appreciated if proper attribution is given back to this notebook and/or myself. Thanks! :)*"
   ]
  },
  {
   "cell_type": "code",
   "execution_count": 1,
   "metadata": {
    "collapsed": false,
    "scrolled": true
   },
   "outputs": [
    {
     "name": "stderr",
     "output_type": "stream",
     "text": [
      "\n",
      "Attaching package: ‘dplyr’\n",
      "\n",
      "The following objects are masked from ‘package:stats’:\n",
      "\n",
      "    filter, lag\n",
      "\n",
      "The following objects are masked from ‘package:base’:\n",
      "\n",
      "    intersect, setdiff, setequal, union\n",
      "\n",
      "Registering fonts with R\n",
      "\n",
      "Attaching package: ‘scales’\n",
      "\n",
      "The following objects are masked from ‘package:readr’:\n",
      "\n",
      "    col_factor, col_numeric\n",
      "\n"
     ]
    },
    {
     "data": {
      "text/plain": [
       "R version 3.2.3 (2015-12-10)\n",
       "Platform: x86_64-apple-darwin13.4.0 (64-bit)\n",
       "Running under: OS X 10.11.4 (El Capitan)\n",
       "\n",
       "locale:\n",
       "[1] en_US.UTF-8/en_US.UTF-8/en_US.UTF-8/C/en_US.UTF-8/en_US.UTF-8\n",
       "\n",
       "attached base packages:\n",
       "[1] grid      stats     graphics  grDevices utils     datasets  methods  \n",
       "[8] base     \n",
       "\n",
       "other attached packages:\n",
       "[1] outliers_0.14      stringr_1.0.0      digest_0.6.8       RColorBrewer_1.1-2\n",
       "[5] scales_0.3.0       extrafont_0.17     ggplot2_2.0.0      dplyr_0.4.3       \n",
       "[9] readr_0.1.1       \n",
       "\n",
       "loaded via a namespace (and not attached):\n",
       " [1] Rcpp_0.12.1      Rttf2pt1_1.3.3   magrittr_1.5     munsell_0.4.2   \n",
       " [5] uuid_0.1-2       colorspace_1.2-6 R6_2.1.1         plyr_1.8.3      \n",
       " [9] tools_3.2.3      parallel_3.2.3   gtable_0.1.2     DBI_0.3.1       \n",
       "[13] extrafontdb_1.0  assertthat_0.1   IRdisplay_0.3    repr_0.4        \n",
       "[17] base64enc_0.1-3  IRkernel_0.5     evaluate_0.8     rzmq_0.7.7      \n",
       "[21] stringi_0.5-5    jsonlite_0.9.19 "
      ]
     },
     "execution_count": 1,
     "metadata": {},
     "output_type": "execute_result"
    }
   ],
   "source": [
    "options(warn = -1)\n",
    "\n",
    "# IMPORTANT: This assumes that all packages in \"Rstart.R\" are installed,\n",
    "# and the fonts \"Source Sans Pro\" and \"Open Sans Condensed Bold\" are installed\n",
    "# via extrafont. If ggplot2 charts fail to render, you may need to change/remove the theme call.\n",
    "\n",
    "source(\"Rstart.R\")\n",
    "library(outliers)\n",
    "\n",
    "sessionInfo()"
   ]
  },
  {
   "cell_type": "markdown",
   "metadata": {},
   "source": [
    "## Process the Data\n",
    "\n",
    "Take the movies data, load in R friendly format, and combine with Rotten Tomatoes data."
   ]
  },
  {
   "cell_type": "code",
   "execution_count": 2,
   "metadata": {
    "collapsed": false
   },
   "outputs": [
    {
     "name": "stdout",
     "output_type": "stream",
     "text": [
      "\r",
      "|================================================================================| 100%  435 MB\n"
     ]
    }
   ],
   "source": [
    "df <- read_delim(\"~/Downloads/omdb0316/omdbMovies.txt\", \"\\t\", col_types=\"iccicccccccidi_c_____\")\n",
    "df_tomatoes <- read_delim(\"~/Downloads/omdb0316/tomatoes.txt\",  \"\\t\", col_types=\"i_diiiicidi_cc_c\")\n",
    "df <- df %>% left_join(df_tomatoes, by=\"ID\")\n",
    "rm(df_tomatoes)"
   ]
  },
  {
   "cell_type": "code",
   "execution_count": 3,
   "metadata": {
    "collapsed": false
   },
   "outputs": [],
   "source": [
    "parseBoxOffice <- function(x) {\n",
    "    unit <- 0\n",
    "    if (is.na(x) | x==\"\") {return (NA)}\n",
    "    if (substr(x, nchar(x), nchar(x)) == \"k\") {unit <- 10^3}\n",
    "    else {unit <- 10^6}\n",
    "\n",
    "    number <- as.numeric(substr(x,2,nchar(x)-1))\n",
    "\n",
    "    return(number * unit)\n",
    "}\n",
    "\n",
    "df <- df %>% mutate(BoxOffice = as.numeric(sapply(BoxOffice, parseBoxOffice)))"
   ]
  },
  {
   "cell_type": "code",
   "execution_count": 4,
   "metadata": {
    "collapsed": false
   },
   "outputs": [],
   "source": [
    "df_dup <- df %>% select(Title, Year) %>% mutate(Title = gsub(\"The \", \"\", Title))\n",
    "dup <- duplicated(df_dup)   # find entry indices which are duplicates\n",
    "rm(df_dup)   # remove temp dataframe\n",
    "\n",
    "df <- df %>% filter(!dup)   # keep entries which are *not* dups"
   ]
  },
  {
   "cell_type": "markdown",
   "metadata": {},
   "source": [
    "## Inflation"
   ]
  },
  {
   "cell_type": "code",
   "execution_count": 5,
   "metadata": {
    "collapsed": false
   },
   "outputs": [],
   "source": [
    "inflation <- read_csv(\"http://research.stlouisfed.org/fred2/data/CPIAUCSL.csv\") %>%\n",
    "                    group_by(Year = as.integer(substr(DATE, 1, 4))) %>%\n",
    "                    summarize(Avg_Value = mean(VALUE)) %>%   # average across all months\n",
    "                    mutate(Adjust = tail(Avg_Value, 1) / Avg_Value)   # normalize by most-recent year"
   ]
  },
  {
   "cell_type": "code",
   "execution_count": 6,
   "metadata": {
    "collapsed": false,
    "scrolled": true
   },
   "outputs": [
    {
     "name": "stderr",
     "output_type": "stream",
     "text": [
      "Joining by: \"Year\"\n"
     ]
    }
   ],
   "source": [
    "df <- df %>% inner_join(inflation) %>% mutate(AdjBoxOffice = floor(BoxOffice * Adjust))"
   ]
  },
  {
   "cell_type": "markdown",
   "metadata": {},
   "source": [
    "Select only data we need now."
   ]
  },
  {
   "cell_type": "code",
   "execution_count": 7,
   "metadata": {
    "collapsed": false
   },
   "outputs": [
    {
     "name": "stdout",
     "output_type": "stream",
     "text": [
      "[1] 2048\n"
     ]
    }
   ],
   "source": [
    "df <- df %>% filter(Year >= 2000, AdjBoxOffice >= 10^7, Cast != '') %>%\n",
    "        select(imdbID, Title, Year, Cast, Meter, Metacritic, AdjBoxOffice) %>%\n",
    "        arrange(desc(AdjBoxOffice))\n",
    "\n",
    "#write.csv(df, \"test.csv\", row.names=F)\n",
    "print(nrow(df))"
   ]
  },
  {
   "cell_type": "markdown",
   "metadata": {},
   "source": [
    "## Determine Gender of Lead"
   ]
  },
  {
   "cell_type": "code",
   "execution_count": 8,
   "metadata": {
    "collapsed": false
   },
   "outputs": [
    {
     "name": "stdout",
     "output_type": "stream",
     "text": [
      "[1] \"Will Smith\"\n"
     ]
    }
   ],
   "source": [
    "# Helper function to get first actor given a string of actors\n",
    "getLeadActor <- function(actors) {\n",
    "    return(unlist(strsplit(actors,\", \"))[1])\n",
    "}\n",
    "\n",
    "# Unicode issues during testing, so use string w/ unicode as a test case\n",
    "print(getLeadActor(\"Will Smith, Robert De Niro, Renée Zellweger, Jack Black\"))"
   ]
  },
  {
   "cell_type": "code",
   "execution_count": 9,
   "metadata": {
    "collapsed": false,
    "scrolled": true
   },
   "outputs": [
    {
     "name": "stdout",
     "output_type": "stream",
     "text": [
      "Source: local data frame [6 x 2]\n",
      "\n",
      "                                       Title         LeadActor\n",
      "                                       (chr)             (chr)\n",
      "1 Star Wars: Episode VII - The Force Awakens     Harrison Ford\n",
      "2                                     Avatar   Sam Worthington\n",
      "3                             Jurassic World       Chris Pratt\n",
      "4                               The Avengers Robert Downey Jr.\n",
      "5                            The Dark Knight    Christian Bale\n",
      "6                                    Shrek 2        Mike Myers\n",
      "Source: local data frame [1 x 2]\n",
      "\n",
      "       Title  LeadActor\n",
      "       (chr)      (chr)\n",
      "1 Shark Tale Will Smith\n"
     ]
    }
   ],
   "source": [
    "df$LeadActor <- as.character(lapply(enc2utf8(df$Cast), getLeadActor))\n",
    "\n",
    "print(head(df %>% select(Title, LeadActor)))\n",
    "print(head(df %>% filter(imdbID==\"tt0307453\") %>% select(Title, LeadActor)))"
   ]
  },
  {
   "cell_type": "markdown",
   "metadata": {},
   "source": [
    "Attempt #1: Merge known gender data of actors. (via [list](https://github.com/matthewfdaniels/scripts/blob/master/data/actor_list.csv) from [Matt Daniels](https://twitter.com/matthew_daniels))"
   ]
  },
  {
   "cell_type": "code",
   "execution_count": 10,
   "metadata": {
    "collapsed": false,
    "scrolled": false
   },
   "outputs": [
    {
     "name": "stdout",
     "output_type": "stream",
     "text": [
      "Source: local data frame [6 x 2]\n",
      "\n",
      "          LeadActor Gender\n",
      "              (chr)  (chr)\n",
      "1       Keir Dullea      m\n",
      "2     Gary Lockwood      m\n",
      "3 William Sylvester      m\n",
      "4    Daniel Richter      m\n",
      "5  Leonard Rossiter      m\n",
      "6   Margaret Tyzack      f\n"
     ]
    }
   ],
   "source": [
    "actor_gender <- read_csv(\"actor_list.csv\") %>% select(LeadActor = name, Gender = gender)\n",
    "\n",
    "print(head(actor_gender))"
   ]
  },
  {
   "cell_type": "code",
   "execution_count": 11,
   "metadata": {
    "collapsed": false
   },
   "outputs": [
    {
     "name": "stderr",
     "output_type": "stream",
     "text": [
      "Joining by: \"LeadActor\"\n"
     ]
    },
    {
     "name": "stdout",
     "output_type": "stream",
     "text": [
      "Source: local data frame [6 x 3]\n",
      "\n",
      "                                       Title         LeadActor Gender\n",
      "                                       (chr)             (chr)  (chr)\n",
      "1 Star Wars: Episode VII - The Force Awakens     Harrison Ford      m\n",
      "2                                     Avatar   Sam Worthington     NA\n",
      "3                             Jurassic World       Chris Pratt     NA\n",
      "4                               The Avengers Robert Downey Jr.     NA\n",
      "5                            The Dark Knight    Christian Bale     NA\n",
      "6                                    Shrek 2        Mike Myers     NA\n"
     ]
    }
   ],
   "source": [
    "df <- df %>% left_join(actor_gender)\n",
    "\n",
    "print(head(df %>% select(Title, LeadActor, Gender)))"
   ]
  },
  {
   "cell_type": "markdown",
   "metadata": {},
   "source": [
    "Attempt #2: Determine gender from most-likely guess from first name. (Using [male](http://www.cs.cmu.edu/afs/cs/project/ai-repository/ai/areas/nlp/corpora/names/male.txt) and [female](http://www.cs.cmu.edu/afs/cs/project/ai-repository/ai/areas/nlp/corpora/names/female.txt) lists from Carnegie-Mellon University)"
   ]
  },
  {
   "cell_type": "code",
   "execution_count": 12,
   "metadata": {
    "collapsed": false
   },
   "outputs": [
    {
     "name": "stdout",
     "output_type": "stream",
     "text": [
      "     X11      X12      X13      X14      X15      X16 \n",
      " \"Aamir\"  \"Aaron\"  \"Abbey\"  \"Abbie\"  \"Abbot\" \"Abbott\" \n",
      "      X11       X12       X13       X14       X15       X16 \n",
      "\"Abagael\" \"Abagail\"    \"Abbe\"   \"Abbey\"    \"Abbi\"   \"Abbie\" \n"
     ]
    }
   ],
   "source": [
    "male_names <- unlist(read_delim(\"male_names.txt\", \"\\n\", skip = 6, col_names=F))\n",
    "female_names <- unlist(read_delim(\"female_names.txt\", \"\\n\", skip = 6, col_names=F))\n",
    "\n",
    "print(head(male_names))\n",
    "print(head(female_names))"
   ]
  },
  {
   "cell_type": "code",
   "execution_count": 13,
   "metadata": {
    "collapsed": false
   },
   "outputs": [
    {
     "name": "stdout",
     "output_type": "stream",
     "text": [
      "[1] \"m\"\n",
      "[1] \"f\"\n"
     ]
    }
   ],
   "source": [
    "getGenderFromFullName <- function (full_name) {\n",
    "    first_name <- unlist(strsplit(full_name, \" \"))[1]\n",
    "    gender <- ifelse(first_name %in% male_names, \"m\",\n",
    "                    ifelse(first_name %in% female_names, \"f\", \"[EDIT ME]\"))\n",
    "    return (gender)\n",
    "}\n",
    "\n",
    "print(getGenderFromFullName(\"Sam Worthington\"))\n",
    "print(getGenderFromFullName(\"Kristen Wiig\"))"
   ]
  },
  {
   "cell_type": "code",
   "execution_count": 14,
   "metadata": {
    "collapsed": false,
    "scrolled": true
   },
   "outputs": [
    {
     "name": "stdout",
     "output_type": "stream",
     "text": [
      "Source: local data frame [6 x 3]\n",
      "\n",
      "                                       Title         LeadActor Gender\n",
      "                                       (chr)             (chr)  (chr)\n",
      "1 Star Wars: Episode VII - The Force Awakens     Harrison Ford      m\n",
      "2                                     Avatar   Sam Worthington      m\n",
      "3                             Jurassic World       Chris Pratt      m\n",
      "4                               The Avengers Robert Downey Jr.      m\n",
      "5                            The Dark Knight    Christian Bale      m\n",
      "6                                    Shrek 2        Mike Myers      m\n",
      "Source: local data frame [6 x 3]\n",
      "\n",
      "                         Title              LeadActor    Gender\n",
      "                         (chr)                  (chr)     (chr)\n",
      "1                      The Man      Samuel L. Jackson         m\n",
      "2           Aliens of the Deep Anatoly M. Sagalevitch         m\n",
      "3                 A Single Man            Colin Firth         m\n",
      "4                      Pollock              Ed Harris         m\n",
      "5             Connie and Carla           Nia Vardalos [EDIT ME]\n",
      "6 I Don't Know How She Does It   Sarah Jessica Parker         f\n"
     ]
    }
   ],
   "source": [
    "gender_guess <- as.character(lapply(as.character(df$LeadActor), getGenderFromFullName))\n",
    "\n",
    "# if a known gender from IMDB is present, use that; else, use the gender guess\n",
    "df$Gender <- ifelse(is.na(df$Gender), gender_guess, df$Gender)\n",
    "\n",
    "print(head(df %>% select(Title, LeadActor, Gender)))\n",
    "print(tail(df %>% select(Title, LeadActor, Gender)))"
   ]
  },
  {
   "cell_type": "markdown",
   "metadata": {},
   "source": [
    "Attempt #3: Manually edit edge cases in a GUI (not shown)"
   ]
  },
  {
   "cell_type": "code",
   "execution_count": 15,
   "metadata": {
    "collapsed": true
   },
   "outputs": [],
   "source": [
    "write.csv(df, \"movie_gender_intermediate.csv\", row.names=F)"
   ]
  },
  {
   "cell_type": "markdown",
   "metadata": {},
   "source": [
    "## Begin the Analysis\n",
    "\n",
    "Reload the updated dataset (a few rows were removed due to being dupes)"
   ]
  },
  {
   "cell_type": "code",
   "execution_count": 2,
   "metadata": {
    "collapsed": false,
    "scrolled": true
   },
   "outputs": [
    {
     "name": "stdout",
     "output_type": "stream",
     "text": [
      "Source: local data frame [6 x 3]\n",
      "\n",
      "                                       Title         LeadActor Gender\n",
      "                                       (chr)             (chr)  (chr)\n",
      "1 Star Wars: Episode VII - The Force Awakens      Daisy Ridley      f\n",
      "2                                     Avatar   Sam Worthington      m\n",
      "3                             Jurassic World       Chris Pratt      m\n",
      "4                               The Avengers Robert Downey Jr.      m\n",
      "5                            The Dark Knight    Christian Bale      m\n",
      "6                                    Shrek 2        Mike Myers      m\n",
      "[1] 2020\n"
     ]
    }
   ],
   "source": [
    "df <- read_csv(\"movie_gender_fixed.csv\")\n",
    "\n",
    "print(head(df %>% select(Title, LeadActor, Gender)))\n",
    "print(nrow(df))"
   ]
  },
  {
   "cell_type": "markdown",
   "metadata": {},
   "source": [
    "Can we remove any points (e.g. Star Wars) as outliers? (tests via [R Explorations](https://rexplorations.wordpress.com/2015/09/05/simple-outlier-detection-in-r/))"
   ]
  },
  {
   "cell_type": "code",
   "execution_count": 3,
   "metadata": {
    "collapsed": false,
    "scrolled": true
   },
   "outputs": [
    {
     "data": {
      "text/plain": [
       "\n",
       "\tDixon test for outliers\n",
       "\n",
       "data:  AdjRevenue\n",
       "Q.AdjBoxOffice1 = 0.23695, p-value = 0.8916\n",
       "alternative hypothesis: highest value 934381231 is an outlier\n"
      ]
     },
     "execution_count": 3,
     "metadata": {},
     "output_type": "execute_result"
    },
    {
     "data": {
      "text/plain": [
       "\n",
       "\tGrubbs test for one outlier\n",
       "\n",
       "data:  AdjRevenue\n",
       "G.AdjBoxOffice1 = 1.52510, U = 0.44175, p-value = 0.2634\n",
       "alternative hypothesis: highest value 934381231 is an outlier\n"
      ]
     },
     "execution_count": 3,
     "metadata": {},
     "output_type": "execute_result"
    },
    {
     "data": {
      "text/plain": [
       "\n",
       "\tchi-squared test for outlier\n",
       "\n",
       "data:  AdjRevenue\n",
       "X-squared.AdjBoxOffice1 = 2.326, p-value = 0.1272\n",
       "alternative hypothesis: highest value 934381231 is an outlier\n"
      ]
     },
     "execution_count": 3,
     "metadata": {},
     "output_type": "execute_result"
    }
   ],
   "source": [
    "AdjRevenue <- unlist(head(df %>% select(AdjBoxOffice)))\n",
    "\n",
    "dixon.test(AdjRevenue, opposite=F)\n",
    "grubbs.test(AdjRevenue, opposite=F)\n",
    "chisq.out.test(AdjRevenue, variance=var(AdjRevenue), opposite=F)"
   ]
  },
  {
   "cell_type": "markdown",
   "metadata": {},
   "source": [
    "No outlier detection test supports it."
   ]
  },
  {
   "cell_type": "markdown",
   "metadata": {},
   "source": [
    "## Plot Box Office Revenues"
   ]
  },
  {
   "cell_type": "code",
   "execution_count": 4,
   "metadata": {
    "collapsed": false
   },
   "outputs": [
    {
     "name": "stdout",
     "output_type": "stream",
     "text": [
      "Source: local data frame [2 x 5]\n",
      "\n",
      "  Gender count      perc     mean   median\n",
      "   (chr) (int)     (dbl)    (dbl)    (int)\n",
      "1      f   467 0.2311881 65586882 44144648\n",
      "2      m  1553 0.7688119 79786060 49841069\n"
     ]
    }
   ],
   "source": [
    "df_summary <- df %>%\n",
    "                group_by(Gender) %>%\n",
    "                summarize(count = n(),\n",
    "                          perc = n()/nrow(df),\n",
    "                          mean = mean(AdjBoxOffice),\n",
    "                          median = median(AdjBoxOffice))\n",
    "\n",
    "color_m <- \"#2980b9\"\n",
    "color_f <- \"#27ae60\"\n",
    "\n",
    "print(df_summary)"
   ]
  },
  {
   "cell_type": "markdown",
   "metadata": {},
   "source": [
    "Plot Male and Female distributions separately, since medians are too close."
   ]
  },
  {
   "cell_type": "code",
   "execution_count": 6,
   "metadata": {
    "collapsed": false
   },
   "outputs": [],
   "source": [
    "df_summary_m <- df_summary %>% filter(Gender==\"m\")\n",
    "\n",
    "plot <- ggplot(df %>% filter(Gender==\"m\"), aes(x=AdjBoxOffice)) +\n",
    "            geom_histogram(fill=color_m, bins=50, alpha=0.75) +\n",
    "            fte_theme() +\n",
    "            scale_x_log10(limits=c(10^7, 10^9), breaks=10^c(7:9), labels=c(\"$10M\", \"$100M\", \"$1B\")) +\n",
    "            geom_vline(xintercept=df_summary_m$mean, color=\"#1a1a1a\") +\n",
    "            geom_vline(xintercept=df_summary_m$median, color=\"#7f8c8d\") +\n",
    "            annotate(geom=\"text\", label = \"Mean:\\n$79.8M\", x=df_summary_f$mean+7*10^7, y=80, color=\"#1a1a1a\", family=\"Source Sans Pro Bold\", hjust=1, size=2) +\n",
    "            annotate(geom=\"text\", label = \"Median:\\n$49.8M\", x=df_summary_m$median-0.5*10^7, y=80, color=\"#7f8c8d\", family=\"Source Sans Pro Bold\", hjust=1, size=2) +\n",
    "            labs(title=\"Distribution of Box Office Revenues of Blockbusters w/ Male Lead\", x=\"Domestic Box Office Revenue (2016 Dollars)\", y=\"# of Movies\")\n",
    "\n",
    "max_save(plot, \"movie-gender-1\", \"IMDb + Rotten Tomatoes via OMDb\")\n",
    "\n",
    "df_summary_f <- df_summary %>% filter(Gender==\"f\")\n",
    "\n",
    "plot <- ggplot(df %>% filter(Gender==\"f\"), aes(x=AdjBoxOffice)) +\n",
    "            geom_histogram(fill=color_f, bins=50, alpha=0.75) +\n",
    "            fte_theme() +\n",
    "            scale_x_log10(limits=c(10^7, 10^9), breaks=10^c(7:9), labels=c(\"$10M\", \"$100M\", \"$1B\")) +\n",
    "            geom_vline(xintercept=df_summary_f$mean, color=\"#1a1a1a\") +\n",
    "            geom_vline(xintercept=df_summary_f$median, color=\"#7f8c8d\") +\n",
    "            annotate(geom=\"text\", label = \"Mean:\\n$65.6M\", x=df_summary_f$mean+5*10^7, y=35, color=\"#1a1a1a\", family=\"Source Sans Pro Bold\", hjust=1, size=2) +\n",
    "            annotate(geom=\"text\", label = \"Median:\\n$44.1M\", x=df_summary_f$median-0.5*10^7, y=35, color=\"#7f8c8d\", family=\"Source Sans Pro Bold\", hjust=1, size=2) +\n",
    "            labs(title=\"Distribution of Box Office Revenues of Blockbusters w/ Female Lead\", x=\"Domestic Box Office Revenue (2016 Dollars)\", y=\"# of Movies\")\n",
    "\n",
    "max_save(plot, \"movie-gender-2\", \"IMDb + Rotten Tomatoes via OMDb\")"
   ]
  },
  {
   "cell_type": "markdown",
   "metadata": {},
   "source": [
    "![](movie-gender-1.png)\n",
    "![](movie-gender-2.png)"
   ]
  },
  {
   "cell_type": "markdown",
   "metadata": {},
   "source": [
    "Plot kernel density distributions on each other."
   ]
  },
  {
   "cell_type": "code",
   "execution_count": 20,
   "metadata": {
    "collapsed": false
   },
   "outputs": [],
   "source": [
    "plot <- ggplot(df, aes(x=AdjBoxOffice, fill=Gender)) +\n",
    "            geom_density(alpha=0.75) +\n",
    "            fte_theme() +\n",
    "            scale_x_log10(limits=c(10^7, 10^9), breaks=10^c(7:9), labels=c(\"$10M\", \"$100M\", \"$1B\")) +\n",
    "            theme(legend.title = element_blank(), legend.position=\"top\", legend.direction=\"horizontal\", legend.key.width=unit(0.5, \"cm\"), legend.key.height=unit(0.25, \"cm\"), legend.margin=unit(0,\"cm\"), axis.title.y=element_blank(), axis.text.y=element_blank()) +\n",
    "            scale_fill_manual(labels=c(\"Female Lead\", \"Male Lead\"), values=c(color_f,color_m)) +\n",
    "            labs(title=\"Density Distribution of B.O. Revenues of Blockbusters by Lead Gender\", x=\"Domestic Box Office Revenue (2016 Dollars)\")\n",
    "\n",
    "max_save(plot, \"movie-gender-3\", \"IMDb + Rotten Tomatoes via OMDb\")"
   ]
  },
  {
   "cell_type": "markdown",
   "metadata": {},
   "source": [
    "![](movie-gender-3.png)"
   ]
  },
  {
   "cell_type": "markdown",
   "metadata": {},
   "source": [
    "Do they come from a different distribution statistically speaking?"
   ]
  },
  {
   "cell_type": "code",
   "execution_count": 21,
   "metadata": {
    "collapsed": false
   },
   "outputs": [
    {
     "name": "stdout",
     "output_type": "stream",
     "text": [
      "\n",
      "\tTwo-sample Kolmogorov-Smirnov test\n",
      "\n",
      "data:  unlist(df %>% filter(Gender == \"m\") %>% select(AdjBoxOffice)) and unlist(df %>% filter(Gender == \"f\") %>% select(AdjBoxOffice))\n",
      "D = 0.10585, p-value = 0.0006411\n",
      "alternative hypothesis: two-sided\n",
      "\n",
      "\n",
      "\tTwo-sample Kolmogorov-Smirnov test\n",
      "\n",
      "data:  log10(unlist(df %>% filter(Gender == \"m\") %>% select(AdjBoxOffice))) and log10(unlist(df %>% filter(Gender == \"f\") %>% select(AdjBoxOffice)))\n",
      "D = 0.10585, p-value = 0.0006411\n",
      "alternative hypothesis: two-sided\n",
      "\n"
     ]
    }
   ],
   "source": [
    "ks_test <- ks.test(\n",
    "            unlist(df %>% filter(Gender==\"m\") %>% select(AdjBoxOffice)),\n",
    "            unlist(df %>% filter(Gender==\"f\") %>% select(AdjBoxOffice)))\n",
    "\n",
    "print(ks_test)\n",
    "\n",
    "## check if log-scaling changes the result\n",
    "\n",
    "ks_test <- ks.test(\n",
    "            log10(unlist(df %>% filter(Gender==\"m\") %>% select(AdjBoxOffice))),\n",
    "            log10(unlist(df %>% filter(Gender==\"f\") %>% select(AdjBoxOffice))))\n",
    "\n",
    "print(ks_test)"
   ]
  },
  {
   "cell_type": "markdown",
   "metadata": {},
   "source": [
    "The distributtion is different! Are the differences in means statistically significant?"
   ]
  },
  {
   "cell_type": "code",
   "execution_count": 22,
   "metadata": {
    "collapsed": false
   },
   "outputs": [
    {
     "name": "stdout",
     "output_type": "stream",
     "text": [
      "\n",
      "\tWilcoxon rank sum test with continuity correction\n",
      "\n",
      "data:  unlist(df %>% filter(Gender == \"m\") %>% select(AdjBoxOffice)) and unlist(df %>% filter(Gender == \"f\") %>% select(AdjBoxOffice))\n",
      "W = 390070, p-value = 0.006514\n",
      "alternative hypothesis: true location shift is greater than 0\n",
      "\n",
      "\n",
      "\tWilcoxon rank sum test with continuity correction\n",
      "\n",
      "data:  log10(unlist(df %>% filter(Gender == \"m\") %>% select(AdjBoxOffice))) and log10(unlist(df %>% filter(Gender == \"f\") %>% select(AdjBoxOffice)))\n",
      "W = 390070, p-value = 0.006514\n",
      "alternative hypothesis: true location shift is greater than 0\n",
      "\n"
     ]
    }
   ],
   "source": [
    "wilcox_test <- wilcox.test(\n",
    "            unlist(df %>% filter(Gender==\"m\") %>% select(AdjBoxOffice)),\n",
    "            unlist(df %>% filter(Gender==\"f\") %>% select(AdjBoxOffice)),\n",
    "            alternative = \"g\")\n",
    "\n",
    "print(wilcox_test)\n",
    "\n",
    "## check if log-scaling changes the result\n",
    "\n",
    "wilcox_test <- wilcox.test(\n",
    "            log10(unlist(df %>% filter(Gender==\"m\") %>% select(AdjBoxOffice))),\n",
    "            log10(unlist(df %>% filter(Gender==\"f\") %>% select(AdjBoxOffice))),\n",
    "            alternative = \"g\")\n",
    "\n",
    "print(wilcox_test)"
   ]
  },
  {
   "cell_type": "markdown",
   "metadata": {},
   "source": [
    "## Plot Rotten Tomatoes Meter\n",
    "\n",
    "Can reuse most of the code, unfortunately have to violate DRY for ad-hoc fixes."
   ]
  },
  {
   "cell_type": "code",
   "execution_count": 23,
   "metadata": {
    "collapsed": false,
    "scrolled": true
   },
   "outputs": [
    {
     "name": "stdout",
     "output_type": "stream",
     "text": [
      "Source: local data frame [2 x 3]\n",
      "\n",
      "  Gender     mean median\n",
      "   (chr)    (dbl)  (int)\n",
      "1      f 47.97859     46\n",
      "2      m 49.59381     49\n"
     ]
    }
   ],
   "source": [
    "df_summary <- df %>%\n",
    "                group_by(Gender) %>%\n",
    "                summarize(mean = mean(Meter, na.rm=T), median = median(Meter, na.rm=T))\n",
    "\n",
    "\n",
    "print(df_summary)"
   ]
  },
  {
   "cell_type": "code",
   "execution_count": 24,
   "metadata": {
    "collapsed": false
   },
   "outputs": [],
   "source": [
    "df_summary_m <- df_summary %>% filter(Gender==\"m\")\n",
    "\n",
    "plot <- ggplot(df %>% filter(Gender==\"m\"), aes(x=Meter)) +\n",
    "            geom_histogram(fill=color_m, bins=50, alpha=0.75) +\n",
    "            fte_theme() +\n",
    "            scale_x_continuous(breaks=seq(0,100, by=10), limits=c(0, 100), labels=paste0(seq(0,100, by=10),\"%\")) +\n",
    "            geom_vline(xintercept=df_summary_m$mean, color=\"#1a1a1a\") +\n",
    "            geom_vline(xintercept=df_summary_m$median, color=\"#7f8c8d\") +\n",
    "            annotate(geom=\"text\", label = \"Mean:\\n49.6%\", x=df_summary_m$mean+6, y=60, color=\"#1a1a1a\", family=\"Source Sans Pro Bold\", size=2) +\n",
    "            annotate(geom=\"text\", label = \"Median:\\n49%\", x=df_summary_m$median-6, y=60, color=\"#7f8c8d\", family=\"Source Sans Pro Bold\", size=2) +\n",
    "            labs(title=\"Distribution of RT Scores of Blockbusters w/ Male Lead\", x=\"Rotten Tomatoes Tomatometer Score\", y=\"# of Movies\")\n",
    "\n",
    "max_save(plot, \"movie-gender-4\", \"IMDb + Rotten Tomatoes via OMDb\")\n",
    "\n",
    "df_summary_f <- df_summary %>% filter(Gender==\"f\")\n",
    "\n",
    "plot <- ggplot(df %>% filter(Gender==\"f\"), aes(x=Meter)) +\n",
    "            geom_histogram(fill=color_f, bins=50, alpha=0.75) +\n",
    "            fte_theme() +\n",
    "            scale_x_continuous(breaks=seq(0,100, by=10), limits=c(0, 100), labels=paste0(seq(0,100, by=10),\"%\")) +\n",
    "            geom_vline(xintercept=df_summary_f$mean, color=\"#1a1a1a\") +\n",
    "            geom_vline(xintercept=df_summary_f$median, color=\"#7f8c8d\") +\n",
    "            annotate(geom=\"text\", label = \"Mean:\\n48.0%\", x=df_summary_f$mean+6, y=30, color=\"#1a1a1a\", family=\"Source Sans Pro Bold\", size=2) +\n",
    "            annotate(geom=\"text\", label = \"Median:\\n46%\", x=df_summary_f$median-6, y=30, color=\"#7f8c8d\", family=\"Source Sans Pro Bold\",  size=2) +\n",
    "            labs(title=\"Distribution of RT Scores of Blockbusters w/ Female Lead\", x=\"Rotten Tomatoes Tomatometer Score\", y=\"# of Movies\")\n",
    "\n",
    "max_save(plot, \"movie-gender-5\", \"IMDb + Rotten Tomatoes via OMDb\")"
   ]
  },
  {
   "cell_type": "markdown",
   "metadata": {},
   "source": [
    "![](movie-gender-4.png)\n",
    "![](movie-gender-5.png)"
   ]
  },
  {
   "cell_type": "code",
   "execution_count": 25,
   "metadata": {
    "collapsed": false
   },
   "outputs": [],
   "source": [
    "plot <- ggplot(df, aes(x=Meter, fill=Gender)) +\n",
    "            geom_density(alpha=0.75) +\n",
    "            fte_theme() +\n",
    "            scale_x_continuous(breaks=seq(0,100, by=10), limits=c(0, 100), labels=paste0(seq(0,100, by=10),\"%\")) +\n",
    "            theme(legend.title = element_blank(), legend.position=\"top\", legend.direction=\"horizontal\", legend.key.width=unit(0.5, \"cm\"), legend.key.height=unit(0.25, \"cm\"), legend.margin=unit(0,\"cm\"), axis.title.y=element_blank(), axis.text.y=element_blank()) +\n",
    "            scale_fill_manual(labels=c(\"Female Lead\", \"Male Lead\"), values=c(color_f,color_m)) +\n",
    "            labs(title=\"Density Distribution of RT Scores of Blockbusters by Lead Gender\", x=\"Rotten Tomatoes Tomatometer Score\")\n",
    "\n",
    "max_save(plot, \"movie-gender-6\", \"IMDb + Rotten Tomatoes via OMDb\")"
   ]
  },
  {
   "cell_type": "markdown",
   "metadata": {},
   "source": [
    "![](movie-gender-6.png)"
   ]
  },
  {
   "cell_type": "code",
   "execution_count": 26,
   "metadata": {
    "collapsed": false
   },
   "outputs": [
    {
     "name": "stdout",
     "output_type": "stream",
     "text": [
      "\n",
      "\tTwo-sample Kolmogorov-Smirnov test\n",
      "\n",
      "data:  unlist(df %>% filter(Gender == \"m\") %>% select(Meter)) and unlist(df %>% filter(Gender == \"f\") %>% select(Meter))\n",
      "D = 0.048455, p-value = 0.3684\n",
      "alternative hypothesis: two-sided\n",
      "\n",
      "\n",
      "\tWilcoxon rank sum test with continuity correction\n",
      "\n",
      "data:  unlist(df %>% filter(Gender == \"m\") %>% select(Meter)) and unlist(df %>% filter(Gender == \"f\") %>% select(Meter))\n",
      "W = 374460, p-value = 0.1326\n",
      "alternative hypothesis: true location shift is greater than 0\n",
      "\n"
     ]
    }
   ],
   "source": [
    "ks_test <- ks.test(\n",
    "            unlist(df %>% filter(Gender==\"m\") %>% select(Meter)),\n",
    "            unlist(df %>% filter(Gender==\"f\") %>% select(Meter)))\n",
    "\n",
    "print(ks_test)\n",
    "\n",
    "wilcox_test <- wilcox.test(\n",
    "            unlist(df %>% filter(Gender==\"m\") %>% select(Meter)),\n",
    "            unlist(df %>% filter(Gender==\"f\") %>% select(Meter)),\n",
    "            alternative=\"g\")\n",
    "\n",
    "print(wilcox_test)"
   ]
  },
  {
   "cell_type": "markdown",
   "metadata": {},
   "source": [
    "## Plot Metacritic"
   ]
  },
  {
   "cell_type": "code",
   "execution_count": 27,
   "metadata": {
    "collapsed": false
   },
   "outputs": [
    {
     "name": "stdout",
     "output_type": "stream",
     "text": [
      "Source: local data frame [2 x 3]\n",
      "\n",
      "  Gender     mean median\n",
      "   (chr)    (dbl)  (dbl)\n",
      "1      f 50.78523     50\n",
      "2      m 51.76032     51\n"
     ]
    }
   ],
   "source": [
    "df_summary <- df %>%\n",
    "                group_by(Gender) %>%\n",
    "                summarize(mean = mean(Metacritic, na.rm=T), median = median(Metacritic, na.rm=T))\n",
    "\n",
    "\n",
    "print(df_summary)"
   ]
  },
  {
   "cell_type": "code",
   "execution_count": 28,
   "metadata": {
    "collapsed": false
   },
   "outputs": [],
   "source": [
    "df_summary_m <- df_summary %>% filter(Gender==\"m\")\n",
    "\n",
    "plot <- ggplot(df %>% filter(Gender==\"m\"), aes(x=Metacritic)) +\n",
    "            geom_histogram(fill=color_m, bins=50, alpha=0.75) +\n",
    "            fte_theme() +\n",
    "            scale_x_continuous(breaks=seq(0,100, by=10), limits=c(0, 100)) +\n",
    "            geom_vline(xintercept=df_summary_m$mean, color=\"#1a1a1a\") +\n",
    "            geom_vline(xintercept=df_summary_m$median, color=\"#7f8c8d\") +\n",
    "            annotate(geom=\"text\", label = \"Mean:\\n51.8\", x=df_summary_m$mean+6, y=80, color=\"#1a1a1a\", family=\"Source Sans Pro Bold\", size=2) +\n",
    "            annotate(geom=\"text\", label = \"Median:\\n51\", x=df_summary_m$median-6, y=80, color=\"#7f8c8d\", family=\"Source Sans Pro Bold\", size=2) +\n",
    "            labs(title=\"Distribution of Metacritic Scores of Blockbusters w/ Male Lead\", x=\"Metacritic Score\", y=\"# of Movies\")\n",
    "\n",
    "max_save(plot, \"movie-gender-7\", \"IMDb + Rotten Tomatoes via OMDb\")\n",
    "\n",
    "df_summary_f <- df_summary %>% filter(Gender==\"f\")\n",
    "\n",
    "plot <- ggplot(df %>% filter(Gender==\"f\"), aes(x=Metacritic)) +\n",
    "            geom_histogram(fill=color_f, bins=50, alpha=0.75) +\n",
    "            fte_theme() +\n",
    "            scale_x_continuous(breaks=seq(0,100, by=10), limits=c(0, 100)) +\n",
    "            geom_vline(xintercept=df_summary_f$mean, color=\"#1a1a1a\") +\n",
    "            geom_vline(xintercept=df_summary_f$median, color=\"#7f8c8d\") +\n",
    "            annotate(geom=\"text\", label = \"Mean:\\n50.8\", x=df_summary_f$mean+6, y=30, color=\"#1a1a1a\", family=\"Source Sans Pro Bold\", size=2) +\n",
    "            annotate(geom=\"text\", label = \"Median:\\n50\", x=df_summary_f$median-6, y=30, color=\"#7f8c8d\", family=\"Source Sans Pro Bold\",  size=2) +\n",
    "            labs(title=\"Distribution of Metacritic Scores of Blockbusters w/ Female Lead\", x=\"Metacritic Score\", y=\"# of Movies\")\n",
    "\n",
    "max_save(plot, \"movie-gender-8\", \"IMDb + Rotten Tomatoes via OMDb\")"
   ]
  },
  {
   "cell_type": "markdown",
   "metadata": {},
   "source": [
    "![](movie-gender-7.png)\n",
    "![](movie-gender-8.png)"
   ]
  },
  {
   "cell_type": "code",
   "execution_count": 29,
   "metadata": {
    "collapsed": false
   },
   "outputs": [],
   "source": [
    "plot <- ggplot(df, aes(x=Metacritic, fill=Gender)) +\n",
    "            geom_density(alpha=0.75) +\n",
    "            fte_theme() +\n",
    "            scale_x_continuous(breaks=seq(0,100, by=10), limits=c(0, 100)) +\n",
    "            theme(legend.title = element_blank(), legend.position=\"top\", legend.direction=\"horizontal\", legend.key.width=unit(0.5, \"cm\"), legend.key.height=unit(0.25, \"cm\"), legend.margin=unit(0,\"cm\"), axis.title.y=element_blank(), axis.text.y=element_blank()) +\n",
    "            scale_fill_manual(labels=c(\"Female Lead\", \"Male Lead\"), values=c(color_f,color_m)) +\n",
    "            labs(title=\"Density Distribution of Metacritic Scores of Blockbusters by Lead Gender\", x=\"Metacritic Score\")\n",
    "\n",
    "max_save(plot, \"movie-gender-9\", \"IMDb + Rotten Tomatoes via OMDb\")"
   ]
  },
  {
   "cell_type": "markdown",
   "metadata": {},
   "source": [
    "![](movie-gender-9.png)"
   ]
  },
  {
   "cell_type": "code",
   "execution_count": 30,
   "metadata": {
    "collapsed": false
   },
   "outputs": [
    {
     "name": "stdout",
     "output_type": "stream",
     "text": [
      "\n",
      "\tTwo-sample Kolmogorov-Smirnov test\n",
      "\n",
      "data:  unlist(df %>% filter(Gender == \"m\") %>% select(Metacritic)) and unlist(df %>% filter(Gender == \"f\") %>% select(Metacritic))\n",
      "D = 0.046268, p-value = 0.4521\n",
      "alternative hypothesis: two-sided\n",
      "\n",
      "\n",
      "\tWilcoxon rank sum test with continuity correction\n",
      "\n",
      "data:  unlist(df %>% filter(Gender == \"m\") %>% select(Metacritic)) and unlist(df %>% filter(Gender == \"f\") %>% select(Metacritic))\n",
      "W = 347130, p-value = 0.1368\n",
      "alternative hypothesis: true location shift is greater than 0\n",
      "\n"
     ]
    }
   ],
   "source": [
    "ks_test <- ks.test(\n",
    "            unlist(df %>% filter(Gender==\"m\") %>% select(Metacritic)),\n",
    "            unlist(df %>% filter(Gender==\"f\") %>% select(Metacritic)))\n",
    "\n",
    "print(ks_test)\n",
    "\n",
    "wilcox_test <- wilcox.test(\n",
    "            unlist(df %>% filter(Gender==\"m\") %>% select(Metacritic)),\n",
    "            unlist(df %>% filter(Gender==\"f\") %>% select(Metacritic)),\n",
    "            alternative=\"g\")\n",
    "\n",
    "print(wilcox_test)"
   ]
  },
  {
   "cell_type": "markdown",
   "metadata": {},
   "source": [
    "## Bootstramp Resample Means"
   ]
  },
  {
   "cell_type": "code",
   "execution_count": 31,
   "metadata": {
    "collapsed": false,
    "scrolled": true
   },
   "outputs": [
    {
     "name": "stdout",
     "output_type": "stream",
     "text": [
      "Source: local data frame [2 x 4]\n",
      "\n",
      "  Gender AdjBoxOffice_m  Meter_m Metacritic_m\n",
      "   (chr)          (dbl)    (dbl)        (dbl)\n",
      "1      f       67986152 45.93206     49.40440\n",
      "2      m       82138781 49.89780     52.02617\n"
     ]
    }
   ],
   "source": [
    "resampleMeans <- function(df) {\n",
    "    df_new <- df %>% sample_frac(replace=T)\n",
    "    \n",
    "    summary <- df_new %>%\n",
    "                group_by(Gender) %>%\n",
    "                summarize(AdjBoxOffice_m = mean(AdjBoxOffice),\n",
    "                            Meter_m = mean(Meter, na.rm=T),\n",
    "                            Metacritic_m = mean(Metacritic, na.rm=T))\n",
    "    \n",
    "    return (summary)\n",
    "}\n",
    "\n",
    "set.seed(4)\n",
    "print(resampleMeans(df))"
   ]
  },
  {
   "cell_type": "markdown",
   "metadata": {},
   "source": [
    "Pre-allocate space per [this Stack Overflow answer](http://stackoverflow.com/questions/20689650/how-to-append-rows-to-an-r-data-frame)."
   ]
  },
  {
   "cell_type": "code",
   "execution_count": 32,
   "metadata": {
    "collapsed": false,
    "scrolled": true
   },
   "outputs": [
    {
     "name": "stdout",
     "output_type": "stream",
     "text": [
      "Source: local data frame [8 x 4]\n",
      "\n",
      "  Gender AdjBoxOffice_m  Meter_m Metacritic_m\n",
      "   (chr)          (dbl)    (dbl)        (dbl)\n",
      "1      f       67986152 45.93206     49.40440\n",
      "2      m       82138781 49.89780     52.02617\n",
      "3      f       65405109 47.98039     51.02036\n",
      "4      m       80331357 49.79551     51.76354\n",
      "5      f       65073479 47.72557     50.11063\n",
      "6      m       78003310 48.89669     51.36024\n",
      "7      f       65424463 48.83369     51.77605\n",
      "8      m       80139428 49.59100     51.92642\n"
     ]
    }
   ],
   "source": [
    "resampleMovieData <- function(n) {\n",
    "\n",
    "df_resample_summary <- data.frame(Gender = character(n*2), AdjBoxOffice_m = numeric(n*2),\n",
    "                 Meter_m = numeric(n*2), Metacritic_m = numeric(n*2), stringsAsFactors = FALSE)\n",
    "\n",
    "for (i in seq(1,n*2 - 1, by = 2)) {\n",
    "    df_resample_summary[c(i,i+1),] <- resampleMeans(df)\n",
    "}\n",
    "\n",
    "return(tbl_df(df_resample_summary))\n",
    "    \n",
    "}\n",
    "\n",
    "set.seed(4)\n",
    "print(resampleMovieData(4))"
   ]
  },
  {
   "cell_type": "code",
   "execution_count": 33,
   "metadata": {
    "collapsed": false
   },
   "outputs": [
    {
     "data": {
      "text/plain": [
       "   user  system elapsed \n",
       " 37.460   4.230  42.968 "
      ]
     },
     "execution_count": 33,
     "metadata": {},
     "output_type": "execute_result"
    },
    {
     "name": "stdout",
     "output_type": "stream",
     "text": [
      "Source: local data frame [6 x 4]\n",
      "\n",
      "  Gender AdjBoxOffice_m  Meter_m Metacritic_m\n",
      "   (chr)          (dbl)    (dbl)        (dbl)\n",
      "1      f       67708627 48.58747     51.07289\n",
      "2      m       79596707 50.01286     52.30313\n",
      "3      f       70793578 47.57675     50.28372\n",
      "4      m       77681742 50.53171     52.40521\n",
      "5      f       72614163 47.77322     50.12472\n",
      "6      m       78020424 49.21093     51.50498\n",
      "[1] 20000\n"
     ]
    }
   ],
   "source": [
    "system.time( df_boot <- resampleMovieData(10000))\n",
    "\n",
    "print(head(df_boot))\n",
    "print(nrow(df_boot)) # expect 10000 * 2"
   ]
  },
  {
   "cell_type": "code",
   "execution_count": 34,
   "metadata": {
    "collapsed": false
   },
   "outputs": [
    {
     "name": "stdout",
     "output_type": "stream",
     "text": [
      "Source: local data frame [2 x 4]\n",
      "\n",
      "  Gender AdjBoxOffice_res_m AdjBoxOffice_low_ci AdjBoxOffice_high_ci\n",
      "   (chr)              (dbl)               (dbl)                (dbl)\n",
      "1      f           65531567            59238519             72485603\n",
      "2      m           79758350            75590754             84168300\n"
     ]
    }
   ],
   "source": [
    "df_boot_agg <- df_boot %>%\n",
    "                group_by(Gender) %>%\n",
    "                summarize(\n",
    "                    AdjBoxOffice_res_m = mean(AdjBoxOffice_m),\n",
    "                    AdjBoxOffice_low_ci = quantile(AdjBoxOffice_m, 0.025),\n",
    "                    AdjBoxOffice_high_ci = quantile(AdjBoxOffice_m, 0.975)\n",
    "                        )\n",
    "\n",
    "print(df_boot_agg)"
   ]
  },
  {
   "cell_type": "markdown",
   "metadata": {},
   "source": [
    "## Plot Final Bootstrap"
   ]
  },
  {
   "cell_type": "code",
   "execution_count": 35,
   "metadata": {
    "collapsed": false
   },
   "outputs": [],
   "source": [
    "df_summary_means <- df %>% group_by(Gender) %>% summarize(mean = mean(AdjBoxOffice))\n",
    "\n",
    "plot <- ggplot(df_boot, aes(x=AdjBoxOffice_m, fill=Gender)) +\n",
    "    scale_x_continuous(limits=c(5*10^7, 10^8), breaks=seq(5*10^7,9*10^7, by=10^7), labels=paste0(\"$\", seq(50,90, by=10), \"M\")) +\n",
    "    scale_y_continuous(breaks=pretty_breaks(4)) +\n",
    "    geom_histogram(bins=100, alpha=0.75, position=\"identity\") +\n",
    "    geom_point(mapping=aes(x=mean, y=0), data=df_summary_means, show.legend=F, color=\"black\") +\n",
    "    geom_errorbarh(mapping=aes(x=AdjBoxOffice_res_m, xmin=AdjBoxOffice_low_ci, xmax=AdjBoxOffice_high_ci, y=0), data=df_boot_agg, show.legend=F, color=\"black\", height=0) +\n",
    "    fte_theme() +\n",
    "    theme(legend.title = element_blank(), legend.position=\"top\", legend.direction=\"horizontal\", legend.key.width=unit(0.5, \"cm\"), legend.key.height=unit(0.25, \"cm\"), legend.margin=unit(0,\"cm\")) +\n",
    "    scale_fill_manual(labels=c(\"Female Lead\", \"Male Lead\"), values=c(color_f,color_m)) +\n",
    "    labs(title=sprintf(\"Resampled Avg. B.O. Revenues by Movie Lead Gender (n = %2d)\", nrow(df_boot)/2), x=\"Average Domestic Box Office Revenue for Blockbusters (2016 Dollars)\", y=\"# of Resampled Averages\")\n",
    "\n",
    "max_save(plot, \"movie-gender-10\", \"IMDb + Rotten Tomatoes via OMDb\")"
   ]
  },
  {
   "cell_type": "markdown",
   "metadata": {},
   "source": [
    "![](movie-gender-10.png)"
   ]
  },
  {
   "cell_type": "markdown",
   "metadata": {},
   "source": [
    "## Determine P-Value of Final Bootstrap\n",
    "\n",
    "Calculate the difference between the bootstrapped means; the P-value is the proportion of values where `m` - `f` < 0."
   ]
  },
  {
   "cell_type": "code",
   "execution_count": 36,
   "metadata": {
    "collapsed": false
   },
   "outputs": [
    {
     "name": "stdout",
     "output_type": "stream",
     "text": [
      "[1] 11888080  6888164  5406261  8136011\n",
      "[1] 2e-04\n"
     ]
    }
   ],
   "source": [
    "n <- 10000\n",
    "\n",
    "means_vector <- unlist(df_boot$AdjBoxOffice)\n",
    "means_diff <- c()\n",
    "\n",
    "for (i in seq(1,n*2 - 1, by = 2)) {\n",
    "    means_diff <- c(means_diff, means_vector[i+1] - means_vector[i])\n",
    "}\n",
    "\n",
    "print(means_diff[1:4])\n",
    "\n",
    "print(sum(means_diff <= 0)/n)   # p-value of difference"
   ]
  },
  {
   "cell_type": "markdown",
   "metadata": {},
   "source": [
    "## Bootstrap Movie!\n",
    "\n",
    "Render each frame of the resample; composite into GIF later."
   ]
  },
  {
   "cell_type": "code",
   "execution_count": 37,
   "metadata": {
    "collapsed": true
   },
   "outputs": [],
   "source": [
    "system(\"mkdir -p movie_frames\")\n",
    "\n",
    "movie_frames <- function(size) {\n",
    "    df_boot_sub <- df_boot %>% head(size*2)\n",
    "    \n",
    "    df_boot_agg_sub <- df_boot_sub %>%\n",
    "                group_by(Gender) %>%\n",
    "                summarize(\n",
    "                    AdjBoxOffice_res_m = mean(AdjBoxOffice_m),\n",
    "                    AdjBoxOffice_low_ci = quantile(AdjBoxOffice_m, 0.025),\n",
    "                    AdjBoxOffice_high_ci = quantile(AdjBoxOffice_m, 0.975)\n",
    "                        )\n",
    "    \n",
    "    plot <- ggplot(df_boot_sub, aes(x=AdjBoxOffice_m, fill=Gender)) +\n",
    "    scale_x_continuous(limits=c(5*10^7, 10^8), breaks=seq(5*10^7,9*10^7, by=10^7), labels=paste0(\"$\", seq(50,90, by=10), \"M\")) +\n",
    "    scale_y_continuous(breaks=pretty_breaks(4)) +\n",
    "    geom_histogram(bins=100, alpha=0.75, position=\"identity\") +\n",
    "    geom_point(mapping=aes(x=mean, y=0), data=df_summary_means, show.legend=F, color=\"black\") +\n",
    "    geom_errorbarh(mapping=aes(x=AdjBoxOffice_res_m, xmin=AdjBoxOffice_low_ci, xmax=AdjBoxOffice_high_ci, y=0), data=df_boot_agg_sub, show.legend=F, color=\"black\", height=0) +\n",
    "    fte_theme() +\n",
    "    theme(legend.title = element_blank(), legend.position=\"top\", legend.direction=\"horizontal\", legend.key.width=unit(0.5, \"cm\"), legend.key.height=unit(0.25, \"cm\"), legend.margin=unit(0,\"cm\")) +\n",
    "    scale_fill_manual(labels=c(\"Female Lead\", \"Male Lead\"), values=c(color_f,color_m)) +\n",
    "    labs(title=sprintf(\"Resampled Avg. B.O. Revenues by Movie Lead Gender (n = %2d)\", size), x=\"Average Domestic Box Office Revenue for Blockbusters (2016 Dollars)\", y=\"# of Resampled Averages\")\n",
    "\n",
    "max_save(plot, sprintf(\"movie_frames/movie_%06d\", size), \"IMDb + Rotten Tomatoes via OMDb\")\n",
    "\n",
    "}"
   ]
  },
  {
   "cell_type": "code",
   "execution_count": 38,
   "metadata": {
    "collapsed": false
   },
   "outputs": [
    {
     "data": {
      "text/plain": [
       "   user  system elapsed \n",
       " 54.031   2.565  60.278 "
      ]
     },
     "execution_count": 38,
     "metadata": {},
     "output_type": "execute_result"
    }
   ],
   "source": [
    "system.time( x <- lapply(seq(100,10000,100), movie_frames) )"
   ]
  },
  {
   "cell_type": "markdown",
   "metadata": {},
   "source": [
    "## The MIT License (MIT)\n",
    "\n",
    "Copyright (c) 2016 Max Woolf\n",
    "\n",
    "Permission is hereby granted, free of charge, to any person obtaining a copy\n",
    "of this software and associated documentation files (the \"Software\"), to deal\n",
    "in the Software without restriction, including without limitation the rights\n",
    "to use, copy, modify, merge, publish, distribute, sublicense, and/or sell\n",
    "copies of the Software, and to permit persons to whom the Software is\n",
    "furnished to do so, subject to the following conditions:\n",
    "\n",
    "The above copyright notice and this permission notice shall be included in all\n",
    "copies or substantial portions of the Software.\n",
    "\n",
    "THE SOFTWARE IS PROVIDED \"AS IS\", WITHOUT WARRANTY OF ANY KIND, EXPRESS OR\n",
    "IMPLIED, INCLUDING BUT NOT LIMITED TO THE WARRANTIES OF MERCHANTABILITY,\n",
    "FITNESS FOR A PARTICULAR PURPOSE AND NONINFRINGEMENT. IN NO EVENT SHALL THE\n",
    "AUTHORS OR COPYRIGHT HOLDERS BE LIABLE FOR ANY CLAIM, DAMAGES OR OTHER\n",
    "LIABILITY, WHETHER IN AN ACTION OF CONTRACT, TORT OR OTHERWISE, ARISING FROM,\n",
    "OUT OF OR IN CONNECTION WITH THE SOFTWARE OR THE USE OR OTHER DEALINGS IN THE\n",
    "SOFTWARE.\n"
   ]
  }
 ],
 "metadata": {
  "kernelspec": {
   "display_name": "R",
   "language": "R",
   "name": "ir"
  },
  "language_info": {
   "codemirror_mode": "r",
   "file_extension": ".r",
   "mimetype": "text/x-r-source",
   "name": "R",
   "pygments_lexer": "r",
   "version": "3.2.3"
  }
 },
 "nbformat": 4,
 "nbformat_minor": 0
}
